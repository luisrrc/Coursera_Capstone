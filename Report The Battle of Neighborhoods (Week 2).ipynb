{
 "cells": [
  {
   "cell_type": "markdown",
   "metadata": {},
   "source": [
    "# Introduction"
   ]
  },
  {
   "cell_type": "markdown",
   "metadata": {},
   "source": [
    "The purpose of this report is to give a recommendation to a hypothetical client, he is an owner of a successful Mexican restaurant located in New York City, where you can taste all the gastronomy of that country. The client wishes to expand his business to the city of **Chicago**, founding another restaurant in another major city within the United States.\n",
    "\n",
    "The client requests help to find the best location (neighborhood) to successfully establish his new restaurant.\n",
    "\n",
    "Certain considerations must be taken when choosing the ideal neighborhood:\n",
    "\n",
    "* When exploring all the neighborhoods, choose one where the Mexican restaurants are not among the 10 most common businesses in the neighborhood.\n",
    "\n",
    "* It would be ideal if the neighborhood had hotels and entertainment areas which would indicate that there are many tourists around and people traveling for work, etc.\n",
    "\n",
    "* The 3 best candidates who meet these requirements will be recommended.\n",
    "\n"
   ]
  },
  {
   "cell_type": "markdown",
   "metadata": {},
   "source": [
    "# Data Collection"
   ]
  },
  {
   "cell_type": "markdown",
   "metadata": {},
   "source": [
    "In this analysis, I used below data sources:"
   ]
  },
  {
   "cell_type": "markdown",
   "metadata": {},
   "source": [
    "* <https://data.cityofchicago.org/Facilities-Geographic-Boundaries/Boundaries-Neighborhoods/bbvz-uum9>:  \n",
    "This data was used to get a list of each neighborhood in the city of Chicago with the geopraphic boundaries."
   ]
  },
  {
   "cell_type": "markdown",
   "metadata": {},
   "source": [
    "* **Nominatim OpenStreetMap Data:**\n",
    "I retrieved geo coordinates from Nominatim’s map data using GeoPy library, to get the coordinates of the city of Chicago."
   ]
  },
  {
   "cell_type": "markdown",
   "metadata": {},
   "source": [
    "* **Foursquare Places Data:**\n",
    "I used Foursquare's 'explore' API call to get local venues information including latitude, longitude, and venue category.\n",
    "Obtained data were used to the exploration, analysis and finally cluster the neighborhoods of the city of Chicago."
   ]
  },
  {
   "cell_type": "markdown",
   "metadata": {},
   "source": [
    "# Methodology Section"
   ]
  },
  {
   "cell_type": "markdown",
   "metadata": {},
   "source": [
    "Clustering Approach:"
   ]
  },
  {
   "cell_type": "markdown",
   "metadata": {},
   "source": [
    "* I choose a clustering algorithm to group the neighborhoods but first we used the Elbow Method to get the optimal number of clusters for a K Means algorithm, which belongs to the unsupervised machine learning algorithms."
   ]
  },
  {
   "cell_type": "markdown",
   "metadata": {},
   "source": [
    "* The next step was to divide the dataset into three clusters in order to group the neighborhoods into three different categories, in one where almost all Mexican restaurants are located, in another where there is a great majority of fast food places and in the last cluster where there are less or no Mexican restaurants besides being neighborhoods with many hotels and entertainment venues."
   ]
  },
  {
   "cell_type": "markdown",
   "metadata": {},
   "source": [
    "* Finally, using credentials of Foursquare API features of near-by places of the neighborhoods and folium library to visualize all the neighborhoods in the city of Chicago."
   ]
  },
  {
   "cell_type": "markdown",
   "metadata": {},
   "source": [
    "# Results"
   ]
  },
  {
   "cell_type": "markdown",
   "metadata": {},
   "source": [
    "\n",
    "The kmeans algorithm grouped all the neighborhoods into three clusters: "
   ]
  },
  {
   "cell_type": "markdown",
   "metadata": {},
   "source": [
    "*  The first cluster has the neighborhoods that have the majority of fast food businesses, liquor store and supermarkets in the city."
   ]
  },
  {
   "cell_type": "markdown",
   "metadata": {},
   "source": [
    "* The second cluster has the neighborhoods that have the majority of Mexican food restaurants in the city."
   ]
  },
  {
   "cell_type": "markdown",
   "metadata": {},
   "source": [
    "* The third cluster has the neighborhoods where most hotels and entertainment areas are located, as well as very few Mexican restaurants."
   ]
  },
  {
   "cell_type": "markdown",
   "metadata": {},
   "source": [
    "# Discussion Section"
   ]
  },
  {
   "cell_type": "markdown",
   "metadata": {},
   "source": [
    "Problem Which Tried to Solve:"
   ]
  },
  {
   "cell_type": "markdown",
   "metadata": {},
   "source": [
    "The purpose of this project is to be able to analyze each neighborhood in the city of Chicago, in order to recommend to our client the best possible place to invest in their future restaurant. To achieve this objective, certain requirements were established:"
   ]
  },
  {
   "cell_type": "markdown",
   "metadata": {},
   "source": [
    "* When exploring all the neighborhoods, choose one where the Mexican restaurants are not among the 10 most common businesses in the neighborhood.\n",
    "\n",
    "* It would be ideal if the neighborhood had hotels and entertainment areas which would indicate that there are many tourists around and people traveling for work, etc.\n",
    "\n",
    "* The 3 best candidates who meet these requirements will be recommended."
   ]
  },
  {
   "cell_type": "markdown",
   "metadata": {},
   "source": [
    "# Conclusion"
   ]
  },
  {
   "cell_type": "markdown",
   "metadata": {},
   "source": [
    "Due to the requirements that we set, all the candidates are in cluster three, to select a top three of neighborhoods, we check which ones have the highest number of hotels."
   ]
  },
  {
   "cell_type": "markdown",
   "metadata": {},
   "source": [
    "Below we will mention the top three of ideal neighborhoods to invest in the restaurant according to our research."
   ]
  },
  {
   "cell_type": "markdown",
   "metadata": {},
   "source": [
    "* **Millenium Park** is a place with a lot of tourism since it has hotels, theaters and entertainment areas, it is undoubtedly an ideal place to invest."
   ]
  },
  {
   "cell_type": "markdown",
   "metadata": {},
   "source": [
    "* **Rush & Division** is the neighborhood with the most hotels, in addition to having restaurants and coffee shops, it would be a very important option to recommend."
   ]
  },
  {
   "cell_type": "markdown",
   "metadata": {},
   "source": [
    "* **Streeterville** is a prestigious neighborhood in the city that also has an area with hotels, parks and restaurants."
   ]
  },
  {
   "cell_type": "markdown",
   "metadata": {},
   "source": [
    "**Magnificent Mile** appears in the top 3 but we must discard it since one of the requirements is that there should be no Mexican restaurants in the top 10 of most common venues."
   ]
  },
  {
   "cell_type": "markdown",
   "metadata": {},
   "source": [
    "I recommend our client to visit those neighborhoods to choose where he will finally found his new restaurant."
   ]
  }
 ],
 "metadata": {
  "kernelspec": {
   "display_name": "Python 3",
   "language": "python",
   "name": "python3"
  },
  "language_info": {
   "codemirror_mode": {
    "name": "ipython",
    "version": 3
   },
   "file_extension": ".py",
   "mimetype": "text/x-python",
   "name": "python",
   "nbconvert_exporter": "python",
   "pygments_lexer": "ipython3",
   "version": "3.7.6"
  }
 },
 "nbformat": 4,
 "nbformat_minor": 4
}
