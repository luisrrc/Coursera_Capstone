{
 "cells": [
  {
   "cell_type": "markdown",
   "metadata": {},
   "source": [
    "# Introduction"
   ]
  },
  {
   "cell_type": "markdown",
   "metadata": {},
   "source": [
    "The purpose of this report is to give a recommendation to a hypothetical client, he is an owner of a successful Mexican restaurant located in New York City, where you can taste all the gastronomy of that country. The client wishes to expand his business to the city of **Chicago**, founding another restaurant in another major city within the United States.\n",
    "\n",
    "The client requests help to find the best location (neighborhood) to successfully establish his new restaurant.\n",
    "\n",
    "Certain considerations must be taken when choosing the ideal neighborhood:\n",
    "\n",
    "* When exploring all the neighborhoods, choose one where the Mexican restaurants are not among the 10 most common businesses in the neighborhood.\n",
    "\n",
    "* It would be ideal if the neighborhood had hotels and entertainment areas which would indicate that there are many tourists around and people traveling for work, etc.\n",
    "\n",
    "* The 3 best candidates who meet these requirements will be recommended.\n",
    "\n"
   ]
  },
  {
   "cell_type": "markdown",
   "metadata": {},
   "source": [
    "# Data Source"
   ]
  },
  {
   "cell_type": "markdown",
   "metadata": {},
   "source": [
    "In this analysis, I used below data sources:"
   ]
  },
  {
   "cell_type": "markdown",
   "metadata": {},
   "source": [
    "* <https://data.cityofchicago.org/Facilities-Geographic-Boundaries/Boundaries-Neighborhoods/bbvz-uum9>:  \n",
    "This data was used to get a list of each neighborhood in the city of Chicago with the geopraphic boundaries."
   ]
  },
  {
   "cell_type": "markdown",
   "metadata": {},
   "source": [
    "* **Nominatim OpenStreetMap Data:**\n",
    "I retrieved geo coordinates from Nominatim’s map data using GeoPy library, to get the coordinates of the city of Chicago."
   ]
  },
  {
   "cell_type": "markdown",
   "metadata": {},
   "source": [
    "* **Foursquare Places Data:**\n",
    "I used Foursquare's 'explore' API call to get local venues information including latitude, longitude, and venue category.\n",
    "Obtained data were used to the exploration, analysis and finally cluster the neighborhoods of the city of Chicago."
   ]
  }
 ],
 "metadata": {
  "kernelspec": {
   "display_name": "Python 3",
   "language": "python",
   "name": "python3"
  },
  "language_info": {
   "codemirror_mode": {
    "name": "ipython",
    "version": 3
   },
   "file_extension": ".py",
   "mimetype": "text/x-python",
   "name": "python",
   "nbconvert_exporter": "python",
   "pygments_lexer": "ipython3",
   "version": "3.7.6"
  }
 },
 "nbformat": 4,
 "nbformat_minor": 4
}
